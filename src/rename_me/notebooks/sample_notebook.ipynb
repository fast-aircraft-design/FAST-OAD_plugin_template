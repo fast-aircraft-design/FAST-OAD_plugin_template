{
 "cells": [
  {
   "cell_type": "markdown",
   "metadata": {},
   "source": [
    "<div class=\"row\">\n",
    "  <div class=\"column\">\n",
    "    <img src=\"./img/logo-onera.png\" width=\"200\">\n",
    "  </div>\n",
    "  <div class=\"column\">\n",
    "    <img src=\"./img/logo-ISAE_SUPAERO.png\" width=\"200\">\n",
    "  </div>\n",
    "</div>"
   ]
  },
  {
   "cell_type": "markdown",
   "metadata": {},
   "source": [
    "# FAST-OAD plugin notebook"
   ]
  },
  {
   "cell_type": "markdown",
   "metadata": {},
   "source": [
    "Any file added here will be available through the `fastoad notebooks` command. User is advised to visit the [FAST-OAD documentation](https://fast-oad.readthedocs.io).\n",
    "\n",
    "The tutorials, presented as Jupyter notebooks, are also highly recommended. Running the cell below will copy the notebooks of the fast-oad-core package and of the fastga package into a subfolder called *FAST-OAD Notebooks*."
   ]
  },
  {
   "cell_type": "code",
   "execution_count": null,
   "metadata": {},
   "outputs": [],
   "source": [
    "import os\n",
    "import fastoad.api as oad\n",
    "\n",
    "destination_path_notebooks = os.path.join(os.getcwd(), \"FAST-OAD Notebooks\")\n",
    "\n",
    "oad.generate_notebooks(destination_path=destination_path_notebooks)"
   ]
  }
 ],
 "metadata": {
  "kernelspec": {
   "display_name": "Python 3 (ipykernel)",
   "language": "python",
   "name": "python3"
  },
  "language_info": {
   "codemirror_mode": {
    "name": "ipython",
    "version": 3
   },
   "file_extension": ".py",
   "mimetype": "text/x-python",
   "name": "python",
   "nbconvert_exporter": "python",
   "pygments_lexer": "ipython3",
   "version": "3.8.19"
  }
 },
 "nbformat": 4,
 "nbformat_minor": 4
}
